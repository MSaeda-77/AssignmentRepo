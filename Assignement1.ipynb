{
  "metadata": {
    "language_info": {
      "codemirror_mode": {
        "name": "python",
        "version": 3
      },
      "file_extension": ".py",
      "mimetype": "text/x-python",
      "name": "python",
      "nbconvert_exporter": "python",
      "pygments_lexer": "ipython3",
      "version": "3.8"
    },
    "kernelspec": {
      "name": "python",
      "display_name": "Pyolite",
      "language": "python"
    }
  },
  "nbformat_minor": 4,
  "nbformat": 4,
  "cells": [
    {
      "cell_type": "markdown",
      "source": "# My Jupyter Notebook on IBM Watson Studio",
      "metadata": {}
    },
    {
      "cell_type": "markdown",
      "source": "**Mohamed Saeda**",
      "metadata": {}
    },
    {
      "cell_type": "markdown",
      "source": "Head of data office",
      "metadata": {}
    },
    {
      "cell_type": "markdown",
      "source": "* I'm interested in the data science because I've been working in banking industry, core banking, front end processes and other banking systems and I'm curiouse to utilize such rich data to produce insights to the C level *",
      "metadata": {}
    },
    {
      "cell_type": "markdown",
      "source": "### This code will add 1+1",
      "metadata": {}
    },
    {
      "cell_type": "code",
      "source": "1+1",
      "metadata": {
        "trusted": true
      },
      "execution_count": 20,
      "outputs": [
        {
          "execution_count": 20,
          "output_type": "execute_result",
          "data": {
            "text/plain": "2"
          },
          "metadata": {}
        }
      ]
    },
    {
      "cell_type": "markdown",
      "source": "1. Item one\n2. Item two\n3. Item three\n4. Item four",
      "metadata": {}
    },
    {
      "cell_type": "markdown",
      "source": "----------------------------------------------------------",
      "metadata": {}
    },
    {
      "cell_type": "markdown",
      "source": "|| Student | Grade |\n| --- | --- | --- |\n| 1 | John | A |\n| 2 | Monica | B |",
      "metadata": {}
    },
    {
      "cell_type": "code",
      "source": "",
      "metadata": {},
      "execution_count": null,
      "outputs": []
    }
  ]
}